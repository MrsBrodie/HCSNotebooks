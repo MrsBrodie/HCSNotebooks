{
 "cells": [
  {
   "cell_type": "markdown",
   "id": "148a0586",
   "metadata": {},
   "source": [
    "<div class = \"alert alert-block alert-info\">\n",
    "    <h1>Exercise 6.5 Password generator</h1>\n",
    "   \n",
    "</div>\n",
    "<hr>\n",
    "\n"
   ]
  },
  {
   "cell_type": "markdown",
   "id": "9c07211f",
   "metadata": {},
   "source": [
    "A system administrator requires a program that will generate an initial single use default password for a user. <br><br>\n",
    "Your task is to create a function that will generate and return this.<br><br>\n",
    "❏\tIt should be 8 characters in length. <br>\n",
    "❏\tThe first character should be an uppercase letter<br>\n",
    "❏\tAny vowels in the password should be replaced with the following numbers/symbols (a=@, e = 3, o = 0, i = 1, u = !). <br>\n",
    "❏\tThere should also be an non alphanumeric character at a random position in the password (NOT the first position)\n"
   ]
  },
  {
   "cell_type": "code",
   "execution_count": null,
   "id": "81a40ddc",
   "metadata": {
    "solution": "hidden",
    "solution_first": true
   },
   "outputs": [],
   "source": [
    "# Exercise 6.5 Password generator\n",
    "# Write your code here\n"
   ]
  }
 ],
 "metadata": {
  "kernelspec": {
   "display_name": "Python 3 (ipykernel)",
   "language": "python",
   "name": "python3"
  },
  "language_info": {
   "codemirror_mode": {
    "name": "ipython",
    "version": 3
   },
   "file_extension": ".py",
   "mimetype": "text/x-python",
   "name": "python",
   "nbconvert_exporter": "python",
   "pygments_lexer": "ipython3",
   "version": "3.9.13"
  }
 },
 "nbformat": 4,
 "nbformat_minor": 5
}
