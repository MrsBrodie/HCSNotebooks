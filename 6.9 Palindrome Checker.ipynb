{
 "cells": [
  {
   "cell_type": "markdown",
   "id": "c698d58b",
   "metadata": {},
   "source": [
    "<div class = \"alert alert-block alert-info\">\n",
    "    <h1>Exercise 6.9 Palindrome Checker</h1>\n",
    "   \n",
    "</div>\n",
    "<hr>\n",
    "\n",
    "<div class = \"alert alert-block alert-success\">\n",
    "    <b> Learning Aims</b><br>✔\tTo create a program to assess whether a word is a palindrome or not <br>\n",
    "  \n",
    "   \n",
    "</div>\n",
    " \n",
    "---"
   ]
  },
  {
   "cell_type": "markdown",
   "id": "b64b3d0b",
   "metadata": {},
   "source": [
    "A palindrome is a word which is spelt the same backwards as it is forward such as (spaces are disregarded): <br>\n",
    "Such as the word “pullup” and the phrase “A man a plan a canal panama” <br>\n",
    "You are to write a function which will return <b>True</b> if a string is a palindrome or <b>False</b> if it is not."
   ]
  },
  {
   "cell_type": "code",
   "execution_count": null,
   "id": "90527c62",
   "metadata": {
    "solution": "hidden",
    "solution_first": true
   },
   "outputs": [],
   "source": [
    "# Exercise 6.9 Palindrome Checker\n",
    "# Write your code here"
   ]
  }
 ],
 "metadata": {
  "kernelspec": {
   "display_name": "Python 3 (ipykernel)",
   "language": "python",
   "name": "python3"
  },
  "language_info": {
   "codemirror_mode": {
    "name": "ipython",
    "version": 3
   },
   "file_extension": ".py",
   "mimetype": "text/x-python",
   "name": "python",
   "nbconvert_exporter": "python",
   "pygments_lexer": "ipython3",
   "version": "3.9.13"
  }
 },
 "nbformat": 4,
 "nbformat_minor": 5
}
