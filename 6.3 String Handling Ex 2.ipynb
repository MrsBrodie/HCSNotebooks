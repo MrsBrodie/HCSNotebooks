{
 "cells": [
  {
   "cell_type": "markdown",
   "id": "25df5395",
   "metadata": {},
   "source": [
    "<div class = \"alert alert-block alert-info\">\n",
    "    <h1>Exercise 6.3 String Handling Exercise 2</h1>\n",
    "   \n",
    "</div>\n",
    "<hr>\n",
    "\n",
    "<div class = \"alert alert-block alert-success\">\n",
    "    <b> Learning Aims</b><br>✔\t To create an algorithm to validate a score<br>\n",
    "  \n",
    "   \n",
    "</div>\n",
    " \n",
    "---"
   ]
  },
  {
   "cell_type": "markdown",
   "id": "240edee2",
   "metadata": {},
   "source": [
    "<h1>Exercise 2</h1> <br>\n",
    "A score for judging a competition is allowed be between 0 and 10 and to have no more than one decimal place. Write \n",
    "and test a function that will check whether a score is valid. The parameters should be the min score, max score and the \n",
    "score itself. \n",
    "Hint: you may need to look at the function: <b>str.index() </b>"
   ]
  },
  {
   "cell_type": "code",
   "execution_count": null,
   "id": "34948e73",
   "metadata": {},
   "outputs": [],
   "source": [
    "# Exercise 6.3 String Handling Exercise 2\n",
    "# Write your code here"
   ]
  }
 ],
 "metadata": {
  "kernelspec": {
   "display_name": "Python 3 (ipykernel)",
   "language": "python",
   "name": "python3"
  },
  "language_info": {
   "codemirror_mode": {
    "name": "ipython",
    "version": 3
   },
   "file_extension": ".py",
   "mimetype": "text/x-python",
   "name": "python",
   "nbconvert_exporter": "python",
   "pygments_lexer": "ipython3",
   "version": "3.9.13"
  }
 },
 "nbformat": 4,
 "nbformat_minor": 5
}
