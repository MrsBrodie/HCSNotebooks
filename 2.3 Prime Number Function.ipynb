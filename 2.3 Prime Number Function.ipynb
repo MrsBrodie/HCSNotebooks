{
 "cells": [
  {
   "cell_type": "markdown",
   "id": "e23edcda",
   "metadata": {},
   "source": [
    "<div class = \"alert alert-block alert-info\">\n",
    "    <h1>Exercise 2.3 Prime Number Function</h1><hr>\n",
    "   \n",
    "</div>\n",
    "\n",
    "---\n",
    "<div class = \"alert alert-block alert-success\">\n",
    "    <b> Learning Aims</b><br>✔\tTo use the modulus function to check if a number is a prime number or not.<br>\n",
    "  \n",
    "   \n",
    "</div>\n",
    "\n",
    "---\n",
    " "
   ]
  },
  {
   "attachments": {
    "modulas.PNG": {
     "image/png": "[encoded data removed]"
    }
   },
   "cell_type": "markdown",
   "id": "91656744",
   "metadata": {},
   "source": [
    "A number is a prime number if it is only divisible by itself and 1. Write a function that will use the modulus function to \n",
    "allow you to return TRUE if a number is a prime number or FALSE if it is not. An example of the modulus function is \n",
    "shown below:\n",
    "![modulas.PNG](attachment:modulas.PNG)"
   ]
  },
  {
   "cell_type": "code",
   "execution_count": null,
   "id": "62acfccf",
   "metadata": {
    "solution": "hidden",
    "solution_first": true
   },
   "outputs": [],
   "source": [
    "# Exercise 2.3 Prime Number Function\n",
    "# Write yourcode here\n"
   ]
  }
 ],
 "metadata": {
  "kernelspec": {
   "display_name": "Python 3 (ipykernel)",
   "language": "python",
   "name": "python3"
  },
  "language_info": {
   "codemirror_mode": {
    "name": "ipython",
    "version": 3
   },
   "file_extension": ".py",
   "mimetype": "text/x-python",
   "name": "python",
   "nbconvert_exporter": "python",
   "pygments_lexer": "ipython3",
   "version": "3.9.13"
  }
 },
 "nbformat": 4,
 "nbformat_minor": 5
}
