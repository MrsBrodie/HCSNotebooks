{
 "cells": [
  {
   "cell_type": "markdown",
   "id": "56746b32",
   "metadata": {},
   "source": [
    "<div class = \"alert alert-block alert-info\">\n",
    "    <h1>Exercise 6.6 Password generator part 2</h1>\n",
    "   \n",
    "</div>\n",
    "<hr>"
   ]
  },
  {
   "cell_type": "markdown",
   "id": "a724c052",
   "metadata": {},
   "source": [
    "A system administrator requires a program that will allow a user to change their password. <br> They should have to enter their old password first and then verify their password by entering their new choice twice.<br> <br>\n",
    " A log of the previous passwords for the single user are contained in the file: <b>encryptedfile.txt</b><br>\n",
    "Your function should ensure that:<br>\n",
    "❏\tThe password matches the most recent password  in the file ( they are simply encrypted by using a Ceaser Cypher of +2 eg. A has been coded as C. Examples can be seen here   https://cryptii.com/caesar-cipher<br>\n",
    "❏\tTheir new password has been entered correctly twice (including case sensitive).<br>\n",
    "❏\tTheir new password choice has not been used already and is not the same as the current password.<br>\n",
    "❏\tThe new password must be encrypted and appended to the file (look into appending file access)<br>\n",
    "\n"
   ]
  },
  {
   "cell_type": "code",
   "execution_count": null,
   "id": "8cc05797",
   "metadata": {
    "solution": "hidden",
    "solution_first": true
   },
   "outputs": [],
   "source": [
    "# Exercise 6.6 Password Generator Part 2\n",
    "# Make sure that the file encryptedfile.txt is in the same folder as this file\n",
    "# Write your code here"
   ]
  }
 ],
 "metadata": {
  "kernelspec": {
   "display_name": "Python 3 (ipykernel)",
   "language": "python",
   "name": "python3"
  },
  "language_info": {
   "codemirror_mode": {
    "name": "ipython",
    "version": 3
   },
   "file_extension": ".py",
   "mimetype": "text/x-python",
   "name": "python",
   "nbconvert_exporter": "python",
   "pygments_lexer": "ipython3",
   "version": "3.9.13"
  }
 },
 "nbformat": 4,
 "nbformat_minor": 5
}
