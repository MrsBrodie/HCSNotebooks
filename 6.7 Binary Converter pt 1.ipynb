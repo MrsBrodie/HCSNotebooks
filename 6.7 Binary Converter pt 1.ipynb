{
 "cells": [
  {
   "cell_type": "markdown",
   "id": "502578a0",
   "metadata": {},
   "source": [
    "<div class = \"alert alert-block alert-info\">\n",
    "    <h1>Exercise 6.7 Binary Converter part 1</h1>\n",
    "   \n",
    "</div>\n",
    "<hr>"
   ]
  },
  {
   "attachments": {
    "Capture.PNG": {
     "image/png": "[encoded data removed]"
    }
   },
   "cell_type": "markdown",
   "id": "70e84d80",
   "metadata": {},
   "source": [
    "A program is being written to help pupils study. It will allow them to enter a binary number (up to 32 bits) and display the decimal value. An example is shown below:\n",
    "![Capture.PNG](attachment:Capture.PNG)"
   ]
  },
  {
   "cell_type": "markdown",
   "id": "47e8a81d",
   "metadata": {},
   "source": [
    "You are required to write a function which will return the converted Binary decimal number. <br>\n",
    "<b>HINT: binaryvalue = binaryvalue.replace(\" \",\"\")</b> will remove any spaces in your input binary value."
   ]
  },
  {
   "cell_type": "code",
   "execution_count": null,
   "id": "9caf6810",
   "metadata": {},
   "outputs": [],
   "source": [
    "# 6.7 Binary Converter Part 1\n",
    "# Write your code here"
   ]
  }
 ],
 "metadata": {
  "kernelspec": {
   "display_name": "Python 3 (ipykernel)",
   "language": "python",
   "name": "python3"
  },
  "language_info": {
   "codemirror_mode": {
    "name": "ipython",
    "version": 3
   },
   "file_extension": ".py",
   "mimetype": "text/x-python",
   "name": "python",
   "nbconvert_exporter": "python",
   "pygments_lexer": "ipython3",
   "version": "3.9.13"
  }
 },
 "nbformat": 4,
 "nbformat_minor": 5
}
